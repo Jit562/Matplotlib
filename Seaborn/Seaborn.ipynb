{
 "cells": [
  {
   "cell_type": "markdown",
   "id": "0b49edc6",
   "metadata": {},
   "source": [
    "# Seaborn"
   ]
  },
  {
   "cell_type": "markdown",
   "id": "fea79e2d",
   "metadata": {},
   "source": [
    "https://seaborn.pydata.org/api.html\n",
    "\n",
    "why seaborn?.\n",
    "\n",
    ". provide a layer of abstraction hence simplare to use\n",
    ". better aesthetics\n",
    ". more graph included\n",
    "\n",
    "\n",
    "Seaborn road map:-\n",
    "    \n",
    "    Type of function:-\n",
    "        \n",
    "        . figure label\n",
    "        . axis label\n",
    "        \n",
    "    main clasifiction:-\n",
    "        \n",
    "        . relational plot\n",
    "        . Distribution plot\n",
    "        . Categorical plot\n",
    "        . Regresion plot\n",
    "        . Matrix plot\n",
    "        . multi plot\n",
    "        . matrix plot"
   ]
  },
  {
   "cell_type": "code",
   "execution_count": 1,
   "id": "f961a250",
   "metadata": {},
   "outputs": [],
   "source": [
    "import numpy as np\n",
    "import pandas as pd\n",
    "import matplotlib.pyplot as plt\n",
    "import seaborn as sns\n",
    "import plotly.express as px"
   ]
  },
  {
   "cell_type": "code",
   "execution_count": 4,
   "id": "3d56f053",
   "metadata": {},
   "outputs": [],
   "source": [
    "# tips = sns.load_dataset('tips')\n",
    "\n",
    "# tips\n",
    "\n",
    "# d = px.data.gapminder()\n",
    "# d"
   ]
  },
  {
   "cell_type": "code",
   "execution_count": null,
   "id": "6cfd7e84",
   "metadata": {},
   "outputs": [],
   "source": [
    "#scatter plot\n",
    "\n",
    "#sns.scatterplot(data=tips, x='total_bill', y='tip', size='size')  axis label plot\n",
    "\n",
    "#sns.relpolt(data=tips, x='total_bill', y='tip', kind='scatterplot', hue='sex', style='time') figure label plot"
   ]
  }
 ],
 "metadata": {
  "kernelspec": {
   "display_name": "Python 3 (ipykernel)",
   "language": "python",
   "name": "python3"
  },
  "language_info": {
   "codemirror_mode": {
    "name": "ipython",
    "version": 3
   },
   "file_extension": ".py",
   "mimetype": "text/x-python",
   "name": "python",
   "nbconvert_exporter": "python",
   "pygments_lexer": "ipython3",
   "version": "3.11.3"
  }
 },
 "nbformat": 4,
 "nbformat_minor": 5
}
