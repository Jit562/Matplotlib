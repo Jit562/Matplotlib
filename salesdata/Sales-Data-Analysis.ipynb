{
 "cells": [
  {
   "cell_type": "code",
   "execution_count": 1,
   "id": "a1162c7b",
   "metadata": {},
   "outputs": [],
   "source": [
    "import pandas as pd\n",
    "import numpy as np\n",
    "from datetime import date"
   ]
  },
  {
   "cell_type": "code",
   "execution_count": 2,
   "id": "5b9ec322",
   "metadata": {},
   "outputs": [],
   "source": [
    "data1 = pd.read_csv('Sales1.csv')\n"
   ]
  },
  {
   "cell_type": "code",
   "execution_count": 3,
   "id": "83ef1a06",
   "metadata": {},
   "outputs": [],
   "source": [
    "data2 = pd.read_csv('Sales2.csv')"
   ]
  },
  {
   "cell_type": "code",
   "execution_count": 4,
   "id": "7359ff60",
   "metadata": {},
   "outputs": [],
   "source": [
    "data3 = pd.read_csv('Sales3.csv')"
   ]
  },
  {
   "cell_type": "code",
   "execution_count": 5,
   "id": "e269661f",
   "metadata": {},
   "outputs": [],
   "source": [
    "data4 = pd.read_csv('Sales4.csv')"
   ]
  },
  {
   "cell_type": "code",
   "execution_count": 6,
   "id": "3736d7fa",
   "metadata": {},
   "outputs": [],
   "source": [
    "data5 = pd.read_csv('Sales5.csv')"
   ]
  },
  {
   "cell_type": "code",
   "execution_count": 7,
   "id": "d65c7a37",
   "metadata": {},
   "outputs": [],
   "source": [
    "data6 = pd.read_csv('Sales6.csv')"
   ]
  },
  {
   "cell_type": "code",
   "execution_count": 8,
   "id": "124d0f59",
   "metadata": {},
   "outputs": [],
   "source": [
    "data7 = pd.read_csv('Sales7.csv')"
   ]
  },
  {
   "cell_type": "code",
   "execution_count": 9,
   "id": "f0433631",
   "metadata": {},
   "outputs": [],
   "source": [
    "data8 = pd.read_csv('Sales8.csv')"
   ]
  },
  {
   "cell_type": "code",
   "execution_count": 10,
   "id": "4886ec28",
   "metadata": {},
   "outputs": [],
   "source": [
    "data9 = pd.read_csv('Sales9.csv')"
   ]
  },
  {
   "cell_type": "code",
   "execution_count": 11,
   "id": "02d5aa55",
   "metadata": {},
   "outputs": [],
   "source": [
    "data10 = pd.read_csv('Sales10.csv')"
   ]
  },
  {
   "cell_type": "code",
   "execution_count": 12,
   "id": "be9fe823",
   "metadata": {},
   "outputs": [],
   "source": [
    "data11 = pd.read_csv('Sales11.csv')"
   ]
  },
  {
   "cell_type": "code",
   "execution_count": 13,
   "id": "a3bf47c8",
   "metadata": {},
   "outputs": [],
   "source": [
    "data12 = pd.read_csv('Sales12.csv')"
   ]
  },
  {
   "cell_type": "code",
   "execution_count": 18,
   "id": "aa4ac766",
   "metadata": {},
   "outputs": [],
   "source": [
    "data = pd.concat([data1,data2,data3,data4,data5,data6,data7,data8,data9,data10,data11,data12])"
   ]
  },
  {
   "cell_type": "code",
   "execution_count": 22,
   "id": "209fb6f0",
   "metadata": {},
   "outputs": [
    {
     "data": {
      "text/html": [
       "<div>\n",
       "<style scoped>\n",
       "    .dataframe tbody tr th:only-of-type {\n",
       "        vertical-align: middle;\n",
       "    }\n",
       "\n",
       "    .dataframe tbody tr th {\n",
       "        vertical-align: top;\n",
       "    }\n",
       "\n",
       "    .dataframe thead th {\n",
       "        text-align: right;\n",
       "    }\n",
       "</style>\n",
       "<table border=\"1\" class=\"dataframe\">\n",
       "  <thead>\n",
       "    <tr style=\"text-align: right;\">\n",
       "      <th></th>\n",
       "      <th>Order ID</th>\n",
       "      <th>Product</th>\n",
       "      <th>Quantity Ordered</th>\n",
       "      <th>Price Each</th>\n",
       "      <th>Order Date</th>\n",
       "      <th>Purchase Address</th>\n",
       "    </tr>\n",
       "  </thead>\n",
       "  <tbody>\n",
       "    <tr>\n",
       "      <th>0</th>\n",
       "      <td>141234</td>\n",
       "      <td>iPhone</td>\n",
       "      <td>1</td>\n",
       "      <td>700</td>\n",
       "      <td>01/22/19 21:25</td>\n",
       "      <td>944 Walnut St, Boston, MA 02215</td>\n",
       "    </tr>\n",
       "    <tr>\n",
       "      <th>1</th>\n",
       "      <td>141235</td>\n",
       "      <td>Lightning Charging Cable</td>\n",
       "      <td>1</td>\n",
       "      <td>14.95</td>\n",
       "      <td>01/28/19 14:15</td>\n",
       "      <td>185 Maple St, Portland, OR 97035</td>\n",
       "    </tr>\n",
       "    <tr>\n",
       "      <th>2</th>\n",
       "      <td>141236</td>\n",
       "      <td>Wired Headphones</td>\n",
       "      <td>2</td>\n",
       "      <td>11.99</td>\n",
       "      <td>01/17/19 13:33</td>\n",
       "      <td>538 Adams St, San Francisco, CA 94016</td>\n",
       "    </tr>\n",
       "    <tr>\n",
       "      <th>3</th>\n",
       "      <td>141237</td>\n",
       "      <td>27in FHD Monitor</td>\n",
       "      <td>1</td>\n",
       "      <td>149.99</td>\n",
       "      <td>01/05/19 20:33</td>\n",
       "      <td>738 10th St, Los Angeles, CA 90001</td>\n",
       "    </tr>\n",
       "    <tr>\n",
       "      <th>4</th>\n",
       "      <td>141238</td>\n",
       "      <td>Wired Headphones</td>\n",
       "      <td>1</td>\n",
       "      <td>11.99</td>\n",
       "      <td>01/25/19 11:59</td>\n",
       "      <td>387 10th St, Austin, TX 73301</td>\n",
       "    </tr>\n",
       "  </tbody>\n",
       "</table>\n",
       "</div>"
      ],
      "text/plain": [
       "  Order ID                   Product Quantity Ordered Price Each   \n",
       "0   141234                    iPhone                1        700  \\\n",
       "1   141235  Lightning Charging Cable                1      14.95   \n",
       "2   141236          Wired Headphones                2      11.99   \n",
       "3   141237          27in FHD Monitor                1     149.99   \n",
       "4   141238          Wired Headphones                1      11.99   \n",
       "\n",
       "       Order Date                       Purchase Address  \n",
       "0  01/22/19 21:25        944 Walnut St, Boston, MA 02215  \n",
       "1  01/28/19 14:15       185 Maple St, Portland, OR 97035  \n",
       "2  01/17/19 13:33  538 Adams St, San Francisco, CA 94016  \n",
       "3  01/05/19 20:33     738 10th St, Los Angeles, CA 90001  \n",
       "4  01/25/19 11:59          387 10th St, Austin, TX 73301  "
      ]
     },
     "execution_count": 22,
     "metadata": {},
     "output_type": "execute_result"
    }
   ],
   "source": [
    "data.head()"
   ]
  },
  {
   "cell_type": "code",
   "execution_count": null,
   "id": "466a791c",
   "metadata": {},
   "outputs": [],
   "source": []
  }
 ],
 "metadata": {
  "kernelspec": {
   "display_name": "Python 3 (ipykernel)",
   "language": "python",
   "name": "python3"
  },
  "language_info": {
   "codemirror_mode": {
    "name": "ipython",
    "version": 3
   },
   "file_extension": ".py",
   "mimetype": "text/x-python",
   "name": "python",
   "nbconvert_exporter": "python",
   "pygments_lexer": "ipython3",
   "version": "3.11.3"
  }
 },
 "nbformat": 4,
 "nbformat_minor": 5
}
