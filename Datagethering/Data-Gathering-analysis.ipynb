{
 "cells": [
  {
   "cell_type": "markdown",
   "id": "e16e8fe1",
   "metadata": {},
   "source": [
    "# Data analysis"
   ]
  },
  {
   "cell_type": "markdown",
   "id": "193d9948",
   "metadata": {},
   "source": [
    "process :- \n",
    "    \n",
    "    Ask_question --> Data wraping --> Exploretory data analysis--> drawing conculusion --> comunication result"
   ]
  },
  {
   "cell_type": "code",
   "execution_count": 3,
   "id": "137565c1",
   "metadata": {},
   "outputs": [],
   "source": [
    "import pandas as pd\n",
    "import requests \n",
    "from io import StringIO"
   ]
  },
  {
   "cell_type": "code",
   "execution_count": 2,
   "id": "523cfe4b",
   "metadata": {},
   "outputs": [],
   "source": [
    "#open csv file from local machine\n",
    "\n",
    "\"\"\"\n",
    "lm =  pd.read_scv('movies.csv')\n",
    "\n",
    "\"\"\""
   ]
  },
  {
   "cell_type": "code",
   "execution_count": 4,
   "id": "ba7cf915",
   "metadata": {},
   "outputs": [
    {
     "data": {
      "text/plain": [
       "'\\nimport requests\\nfrom io import StringIO\\n\\nurl = \"https://raw.githubusercontent.com/cs109/2014_data/master/countries.csv\"\\nheaders = {\"User-Agent\": \"Mozilla/5.0 (Macintosh; Intel Mac OS X 10.14; rv:66.0) Gecko/20100101 Firefox/66.0\"}\\nreq = requests.get(url, headers=headers)\\ndata = StringIO(req.text)\\n\\npd.read_csv(data)\\n\\n'"
      ]
     },
     "execution_count": 4,
     "metadata": {},
     "output_type": "execute_result"
    }
   ],
   "source": [
    "# open csv file using url\n",
    "\n",
    "\"\"\"\n",
    "import requests\n",
    "from io import StringIO\n",
    "\n",
    "url = \"https://raw.githubusercontent.com/cs109/2014_data/master/countries.csv\"\n",
    "headers = {\"User-Agent\": \"Mozilla/5.0 (Macintosh; Intel Mac OS X 10.14; rv:66.0) Gecko/20100101 Firefox/66.0\"}\n",
    "req = requests.get(url, headers=headers)\n",
    "data = StringIO(req.text)\n",
    "\n",
    "pd.read_csv(data)\n",
    "\n",
    "\"\"\""
   ]
  },
  {
   "cell_type": "markdown",
   "id": "97140768",
   "metadata": {},
   "source": [
    "# Sep parametre"
   ]
  },
  {
   "cell_type": "code",
   "execution_count": 5,
   "id": "d1fc2261",
   "metadata": {},
   "outputs": [
    {
     "data": {
      "text/plain": [
       "\"\\npd.read_csv('movie_titles_metadata.tsv',sep='\\t',names=['sno','name','release_year','rating','votes','genres'])\\n\\n\""
      ]
     },
     "execution_count": 5,
     "metadata": {},
     "output_type": "execute_result"
    }
   ],
   "source": [
    "\"\"\"\n",
    "pd.read_csv('movie_titles_metadata.tsv',sep='\\t',names=['sno','name','release_year','rating','votes','genres'])\n",
    "\n",
    "\"\"\""
   ]
  },
  {
   "cell_type": "markdown",
   "id": "dc91d9ac",
   "metadata": {},
   "source": [
    "# Index_col parameter"
   ]
  },
  {
   "cell_type": "code",
   "execution_count": 6,
   "id": "5702ea4e",
   "metadata": {},
   "outputs": [
    {
     "data": {
      "text/plain": [
       "\"\\npd.read_csv('aug_train.csv',index_col='enrollee_id')\\n\\n\""
      ]
     },
     "execution_count": 6,
     "metadata": {},
     "output_type": "execute_result"
    }
   ],
   "source": [
    "\"\"\"\n",
    "pd.read_csv('aug_train.csv',index_col='enrollee_id')\n",
    "\n",
    "\"\"\""
   ]
  },
  {
   "cell_type": "markdown",
   "id": "d44f9d06",
   "metadata": {},
   "source": [
    "# Header parameter"
   ]
  },
  {
   "cell_type": "code",
   "execution_count": 7,
   "id": "0e6a45e6",
   "metadata": {},
   "outputs": [
    {
     "data": {
      "text/plain": [
       "\"\\npd.read_csv('test.csv',header=1)\\n\\n\""
      ]
     },
     "execution_count": 7,
     "metadata": {},
     "output_type": "execute_result"
    }
   ],
   "source": [
    "\"\"\"\n",
    "pd.read_csv('test.csv',header=1)\n",
    "\n",
    "\"\"\""
   ]
  },
  {
   "cell_type": "markdown",
   "id": "4aa27ba5",
   "metadata": {},
   "source": [
    "# use_cols parameter"
   ]
  },
  {
   "cell_type": "code",
   "execution_count": 8,
   "id": "48968984",
   "metadata": {},
   "outputs": [
    {
     "data": {
      "text/plain": [
       "\"\\npd.read_csv('aug_train.csv',usecols=['enrollee_id','gender','education_level'])\\n\\n\""
      ]
     },
     "execution_count": 8,
     "metadata": {},
     "output_type": "execute_result"
    }
   ],
   "source": [
    "\"\"\"\n",
    "pd.read_csv('aug_train.csv',usecols=['enrollee_id','gender','education_level'])\n",
    "\n",
    "\"\"\""
   ]
  },
  {
   "cell_type": "markdown",
   "id": "aece701c",
   "metadata": {},
   "source": [
    "# Squeeze parameters"
   ]
  },
  {
   "cell_type": "code",
   "execution_count": 9,
   "id": "67d3a079",
   "metadata": {},
   "outputs": [
    {
     "data": {
      "text/plain": [
       "\"\\npd.read_csv('aug_train.csv',usecols=['gender'],squeeze=True)\\n\\n\""
      ]
     },
     "execution_count": 9,
     "metadata": {},
     "output_type": "execute_result"
    }
   ],
   "source": [
    "\"\"\"\n",
    "pd.read_csv('aug_train.csv',usecols=['gender'],squeeze=True)\n",
    "\n",
    "\"\"\""
   ]
  },
  {
   "cell_type": "code",
   "execution_count": null,
   "id": "4f18676e",
   "metadata": {},
   "outputs": [],
   "source": [
    "# tmdb api link"
   ]
  }
 ],
 "metadata": {
  "kernelspec": {
   "display_name": "Python 3 (ipykernel)",
   "language": "python",
   "name": "python3"
  },
  "language_info": {
   "codemirror_mode": {
    "name": "ipython",
    "version": 3
   },
   "file_extension": ".py",
   "mimetype": "text/x-python",
   "name": "python",
   "nbconvert_exporter": "python",
   "pygments_lexer": "ipython3",
   "version": "3.11.3"
  }
 },
 "nbformat": 4,
 "nbformat_minor": 5
}
